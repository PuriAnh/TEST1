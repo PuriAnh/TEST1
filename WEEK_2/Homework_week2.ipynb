{
 "cells": [
  {
   "cell_type": "code",
   "execution_count": 54,
   "id": "8880b4f7",
   "metadata": {},
   "outputs": [],
   "source": [
    "#Bài 1\n",
    "\n",
    "from collections import deque\n",
    "\n",
    "def max_sliding_window(num_list, k):\n",
    "    \n",
    "    result = []\n",
    "    \n",
    "    # dùng deque lưu trữ các chỉ số của các phần tử trong cửa sổ trượt\n",
    "    deq = deque()\n",
    "    \n",
    "    #duyệt các phần tử trong num_list\n",
    "    for i in range(len(num_list)): \n",
    "        # loại bỏ các phần tử không còn trong cửa sổ di chuyển từ trái sang phải\n",
    "        if deq and deq[0] < i - k + 1:\n",
    "            deq.popleft() #loại bỏ và trả về phần tử đầu tiên từ bên trái của deq\n",
    "            \n",
    "        # loại cái phần tử ở cuối deq nếu nó nhỏ hơn phần tử hiện tại\n",
    "        while deq and num_list[deq[-1]] < num_list[i]:\n",
    "            deq.pop()\n",
    "            \n",
    "        # thêm phần tử hiện tại vào deque\n",
    "        deq.append(i)\n",
    "        \n",
    "        #lưu giá trị lớn nhất\n",
    "        if i >= k - 1:\n",
    "            result.append(num_list[deq[0]])\n",
    "    \n",
    "    return result\n"
   ]
  },
  {
   "cell_type": "code",
   "execution_count": 55,
   "id": "d559a7cf",
   "metadata": {},
   "outputs": [
    {
     "data": {
      "text/plain": [
       "[5, 5, 5, 5, 10, 12, 33, 33]"
      ]
     },
     "execution_count": 55,
     "metadata": {},
     "output_type": "execute_result"
    }
   ],
   "source": [
    "# test 1\n",
    "num_list = [3, 4, 5, 1, -44, 5, 10, 12, 33, 1]\n",
    "k = 3\n",
    "\n",
    "max_sliding_window(num_list, k)"
   ]
  },
  {
   "cell_type": "code",
   "execution_count": 67,
   "id": "425c4069",
   "metadata": {},
   "outputs": [],
   "source": [
    "#Bài 2\n",
    "\n",
    "def count_characters(word):\n",
    "    \n",
    "    # sắp xếp từ a đến z\n",
    "    word = sorted(word)\n",
    "    \n",
    "    # lưu trữ số lần xuất hiện của ký tự\n",
    "    char_count = {}\n",
    "    \n",
    "    # chạy vòng lặp từng chữ cái trong từ\n",
    "    for char in word:\n",
    "        if char in char_count:\n",
    "            char_count[char] += 1 #cộng thêm 1 nếu từ đã xuất hiện\n",
    "        else:\n",
    "            char_count[char] = 1 #bằng 1 nếu ký tự đó chưa xuất hiện\n",
    "            \n",
    "    return char_count"
   ]
  },
  {
   "cell_type": "code",
   "execution_count": 68,
   "id": "13ee9876",
   "metadata": {},
   "outputs": [
    {
     "data": {
      "text/plain": [
       "{'e': 1, 'i': 1, 'l': 1, 'm': 1, 's': 2}"
      ]
     },
     "execution_count": 68,
     "metadata": {},
     "output_type": "execute_result"
    }
   ],
   "source": [
    "# test 2\n",
    "\n",
    "string = 'smiles'\n",
    "count_characters(string)"
   ]
  },
  {
   "cell_type": "code",
   "execution_count": 69,
   "id": "f6006aee",
   "metadata": {},
   "outputs": [],
   "source": [
    "#Bài 3\n",
    "\n",
    "def words_count(file_path):\n",
    "    # tạo dictionary để lưu trữ số lần xuất hiện của các từ\n",
    "    word_count = {}\n",
    "    \n",
    "    try:\n",
    "        # mở và đọc file\n",
    "        with open(file_path, 'r') as file:\n",
    "            # đọc và chuyển thành chữ thường\n",
    "            content = file.read().lower()\n",
    "        \n",
    "        # tách nội dung thành các từ và xắp sếp ký tự\n",
    "        words = sorted(content.split())\n",
    "        \n",
    "        # đếm số lần xuất hiện của từng từ\n",
    "        for word in words:\n",
    "            if word in word_count:\n",
    "                word_count[word] += 1\n",
    "            else:\n",
    "                word_count[word] = 1\n",
    "                \n",
    "    # báo lỗi khi fies không đúng địa chỉ hoặc sai\n",
    "    except FileNotFoundError:\n",
    "        print(f\"File {file_path} không tồn tại.\")\n",
    "    except Exception as e:\n",
    "        print(f\"Đã xảy ra lỗi: {e}\")\n",
    "    \n",
    "    return word_count\n"
   ]
  },
  {
   "cell_type": "code",
   "execution_count": 70,
   "id": "6ee3e6e0",
   "metadata": {},
   "outputs": [
    {
     "data": {
      "text/plain": [
       "{'a': 7,\n",
       " 'again': 1,\n",
       " 'and': 1,\n",
       " 'are': 1,\n",
       " 'at': 1,\n",
       " 'be': 1,\n",
       " 'become': 2,\n",
       " 'bricks': 1,\n",
       " 'busy': 1,\n",
       " 'but': 1,\n",
       " 'came': 1,\n",
       " 'can': 3,\n",
       " 'cannot': 1,\n",
       " 'change': 1,\n",
       " 'comes': 2,\n",
       " 'conquers': 1,\n",
       " 'courage': 1,\n",
       " 'day': 1,\n",
       " 'different': 1,\n",
       " 'employed': 1,\n",
       " 'enough': 1,\n",
       " 'everything': 1,\n",
       " 'firm': 1,\n",
       " 'for': 3,\n",
       " 'foundation': 1,\n",
       " 'from': 1,\n",
       " 'get': 2,\n",
       " 'have': 1,\n",
       " 'he': 1,\n",
       " 'help': 1,\n",
       " 'him': 1,\n",
       " 'himself': 1,\n",
       " 'his': 2,\n",
       " 'if': 1,\n",
       " 'in': 4,\n",
       " 'is': 3,\n",
       " 'it': 2,\n",
       " 'just': 2,\n",
       " 'kind': 1,\n",
       " 'lay': 1,\n",
       " 'life': 2,\n",
       " 'looking': 1,\n",
       " 'majority': 1,\n",
       " 'makes': 1,\n",
       " 'man': 6,\n",
       " 'mightiest': 1,\n",
       " 'mistakes': 1,\n",
       " 'morning': 1,\n",
       " 'not': 1,\n",
       " 'of': 4,\n",
       " 'one': 4,\n",
       " 'opportunity': 1,\n",
       " 'other': 1,\n",
       " 'others': 1,\n",
       " 'people': 1,\n",
       " 'positive': 1,\n",
       " 'problems': 1,\n",
       " 'profit': 1,\n",
       " 'rather': 1,\n",
       " 'ready': 1,\n",
       " 'secret': 1,\n",
       " 'small': 1,\n",
       " 'solve': 1,\n",
       " 'success': 3,\n",
       " 'successful': 2,\n",
       " 'the': 5,\n",
       " 'them': 1,\n",
       " 'they': 1,\n",
       " 'thinking': 1,\n",
       " 'those': 1,\n",
       " 'thought': 1,\n",
       " 'thrown': 1,\n",
       " 'to': 3,\n",
       " 'too': 1,\n",
       " 'try': 2,\n",
       " 'up': 1,\n",
       " 'usually': 1,\n",
       " 'value': 1,\n",
       " 'want': 2,\n",
       " 'warrior': 1,\n",
       " 'way': 1,\n",
       " 'we': 3,\n",
       " 'what': 1,\n",
       " 'when': 2,\n",
       " 'who': 3,\n",
       " 'whole': 1,\n",
       " 'will': 2,\n",
       " 'with': 4,\n",
       " 'you': 3,\n",
       " 'your': 1}"
      ]
     },
     "execution_count": 70,
     "metadata": {},
     "output_type": "execute_result"
    }
   ],
   "source": [
    "# test 3\n",
    "\n",
    "files_path = 'P1_data.txt'\n",
    "words_count(files_path)"
   ]
  },
  {
   "cell_type": "code",
   "execution_count": 2,
   "id": "5ac6a401",
   "metadata": {},
   "outputs": [],
   "source": [
    "# Bài 4\n",
    "\n",
    "def levenshtein_distance(S, T):\n",
    "    m, n = len(S), len(T)\n",
    "    \n",
    "    # tạo ma trận (m+1) x (n+1)\n",
    "    dp = [[0] * (n + 1) for _ in range(m + 1)]\n",
    "    \n",
    "    # tạo giá trị ban đầu cho hàng và cột đầu tiên\n",
    "    for i in range(m + 1):\n",
    "        dp[i][0] = i\n",
    "    for j in range(n + 1):\n",
    "        dp[0][j] = j\n",
    "    \n",
    "    # điền ma trận\n",
    "    for i in range(1, m + 1):\n",
    "        for j in range(1, n + 1):\n",
    "            cost = 0 if S[i - 1] == T[j - 1] else 1\n",
    "            dp[i][j] = min(dp[i - 1][j] + 1,     # xoá một ký tự từ S\n",
    "                           dp[i][j - 1] + 1,     # thêm một ký tự vào S\n",
    "                           dp[i - 1][j - 1] + cost)  # thay thế ký tự\n",
    "            \n",
    "    # giá trị cuối cùng ở góc dưới phải của ma trận là khoảng cách Levenshtein\n",
    "    return dp[m][n]\n"
   ]
  },
  {
   "cell_type": "code",
   "execution_count": 4,
   "id": "eb479fce",
   "metadata": {},
   "outputs": [
    {
     "name": "stdout",
     "output_type": "stream",
     "text": [
      "Khoảng cách Levenshtein giữa 'kitten' và 'sitting' là: 3\n"
     ]
    }
   ],
   "source": [
    "# test 4\n",
    "\n",
    "S = \"kitten\"\n",
    "T = \"sitting\"\n",
    "print(f\"Khoảng cách Levenshtein giữa '{S}' và '{T}' là: {levenshtein_distance(S, T)}\")"
   ]
  }
 ],
 "metadata": {
  "kernelspec": {
   "display_name": "Python 3 (ipykernel)",
   "language": "python",
   "name": "python3"
  },
  "language_info": {
   "codemirror_mode": {
    "name": "ipython",
    "version": 3
   },
   "file_extension": ".py",
   "mimetype": "text/x-python",
   "name": "python",
   "nbconvert_exporter": "python",
   "pygments_lexer": "ipython3",
   "version": "3.11.7"
  }
 },
 "nbformat": 4,
 "nbformat_minor": 5
}
